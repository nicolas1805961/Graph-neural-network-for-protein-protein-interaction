{
 "cells": [
  {
   "cell_type": "code",
   "execution_count": 21,
   "metadata": {},
   "outputs": [
    {
     "name": "stdout",
     "output_type": "stream",
     "text": [
      "894213\n",
      "4299\n"
     ]
    },
    {
     "data": {
      "text/html": [
       "<div>\n",
       "<style scoped>\n",
       "    .dataframe tbody tr th:only-of-type {\n",
       "        vertical-align: middle;\n",
       "    }\n",
       "\n",
       "    .dataframe tbody tr th {\n",
       "        vertical-align: top;\n",
       "    }\n",
       "\n",
       "    .dataframe thead th {\n",
       "        text-align: right;\n",
       "    }\n",
       "</style>\n",
       "<table border=\"1\" class=\"dataframe\">\n",
       "  <thead>\n",
       "    <tr style=\"text-align: right;\">\n",
       "      <th></th>\n",
       "      <th>0</th>\n",
       "      <th>1</th>\n",
       "    </tr>\n",
       "  </thead>\n",
       "  <tbody>\n",
       "    <tr>\n",
       "      <th>0</th>\n",
       "      <td>uniprotkb:O75400</td>\n",
       "      <td>uniprotkb:Q14687</td>\n",
       "    </tr>\n",
       "    <tr>\n",
       "      <th>1</th>\n",
       "      <td>uniprotkb:O00488</td>\n",
       "      <td>uniprotkb:O95084</td>\n",
       "    </tr>\n",
       "    <tr>\n",
       "      <th>2</th>\n",
       "      <td>uniprotkb:P02794</td>\n",
       "      <td>uniprotkb:Q9GZP1</td>\n",
       "    </tr>\n",
       "    <tr>\n",
       "      <th>3</th>\n",
       "      <td>uniprotkb:Q9UI14</td>\n",
       "      <td>uniprotkb:O75131</td>\n",
       "    </tr>\n",
       "    <tr>\n",
       "      <th>4</th>\n",
       "      <td>uniprotkb:Q12840</td>\n",
       "      <td>uniprotkb:O14787</td>\n",
       "    </tr>\n",
       "  </tbody>\n",
       "</table>\n",
       "</div>"
      ],
      "text/plain": [
       "                  0                 1\n",
       "0  uniprotkb:O75400  uniprotkb:Q14687\n",
       "1  uniprotkb:O00488  uniprotkb:O95084\n",
       "2  uniprotkb:P02794  uniprotkb:Q9GZP1\n",
       "3  uniprotkb:Q9UI14  uniprotkb:O75131\n",
       "4  uniprotkb:Q12840  uniprotkb:O14787"
      ]
     },
     "execution_count": 21,
     "metadata": {},
     "output_type": "execute_result"
    }
   ],
   "source": [
    "import os\n",
    "import pandas as pd\n",
    "\n",
    "nb = len(pd.read_csv('filtered_ppi_dropped.csv'))\n",
    "df = pd.read_csv('16169070_neg.mitab', sep='\\t', header=None, encoding='ISO-8859-1')\n",
    "df = df[[0, 1]]\n",
    "print(len(df))\n",
    "df = df.sample(n=nb, random_state=42).reset_index(drop=True)\n",
    "print(len(df))\n",
    "df.head(5)"
   ]
  },
  {
   "cell_type": "code",
   "execution_count": 44,
   "metadata": {},
   "outputs": [],
   "source": [
    "from sklearn.model_selection import train_test_split\n",
    "import pandas as pd\n",
    "import os\n",
    "\n",
    "df_negative = pd.read_csv('negative.csv')[['0', '1']]\n",
    "df_negative['Y'] = 0\n",
    "df_positive = pd.read_csv('positive.csv')[['protein_xref_1', 'protein_xref_2']]\n",
    "df_positive.columns = ['0', '1']\n",
    "df_positive['Y'] = 1\n",
    "df = pd.concat([df_positive, df_negative], axis=0)\n",
    "assert len(df) == len(df_positive) + len(df_negative)\n",
    "\n",
    "df = df.sample(frac=1, random_state=42).reset_index(drop=True)\n",
    "\n",
    "train, test = train_test_split(df, test_size=0.2, random_state=42)\n",
    "train, val = train_test_split(train, test_size=0.2, random_state=42)\n",
    "\n",
    "train = train.reset_index(drop=True)\n",
    "val = val.reset_index(drop=True)\n",
    "test = test.reset_index(drop=True)\n",
    "\n",
    "train.to_csv(os.path.join('data', 'train_data.csv'), index=False)\n",
    "val.to_csv(os.path.join('data', 'val_data.csv'), index=False)\n",
    "test.to_csv(os.path.join('data', 'test_data.csv'), index=False)"
   ]
  }
 ],
 "metadata": {
  "kernelspec": {
   "display_name": "Python 3",
   "language": "python",
   "name": "python3"
  },
  "language_info": {
   "codemirror_mode": {
    "name": "ipython",
    "version": 3
   },
   "file_extension": ".py",
   "mimetype": "text/x-python",
   "name": "python",
   "nbconvert_exporter": "python",
   "pygments_lexer": "ipython3",
   "version": "3.9.5"
  }
 },
 "nbformat": 4,
 "nbformat_minor": 2
}
